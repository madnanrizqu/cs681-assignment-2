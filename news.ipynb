{
 "cells": [
  {
   "cell_type": "markdown",
   "metadata": {},
   "source": [
    "# CS 681 Assignment 1 Muhammad Adnan Rizqullah 2403851"
   ]
  },
  {
   "cell_type": "markdown",
   "metadata": {},
   "source": [
    "## Dataset download\n",
    "In this step goal is to make the dataset ready to be used in the Jupyter notebook runtime. the dataset gets downloaded into the runtime of the Jupyter notebook for further processing."
   ]
  },
  {
   "cell_type": "code",
   "execution_count": 4,
   "metadata": {},
   "outputs": [],
   "source": [
    "from sklearn.datasets import fetch_20newsgroups\n",
    "\n",
    "cats = ['rec.autos', 'comp.graphics']\n",
    "newsgroups_train = fetch_20newsgroups(subset='train', categories=cats)"
   ]
  },
  {
   "cell_type": "markdown",
   "metadata": {},
   "source": [
    "## Dateset exploration\n",
    "In this step the goal is to know how best to preprocess the dataset. We also want to know whether there are any empty values and whether the dataset has balanced class distribution. "
   ]
  },
  {
   "cell_type": "code",
   "execution_count": 5,
   "metadata": {},
   "outputs": [
    {
     "name": "stdout",
     "output_type": "stream",
     "text": [
      "Number of training samples: 1178\n",
      "Categories (classes): ['comp.graphics', 'rec.autos']\n",
      "\n",
      "Samples per category:\n",
      "comp.graphics: 584\n",
      "rec.autos: 594\n",
      "\n",
      "Dataset attributes:\n",
      "- data\n",
      "From: dave.mikelson@almac.co.uk (Dave Mikelson) \n",
      "Subject: Re: PCX\n",
      "Distribution: world\n",
      "Organization: Almac BBS Ltd. +44 (0)324 665371\n",
      "Reply-To: dave.mikelson@almac.co.uk (Dave Mikelson) \n",
      "Lines: 22\n",
      "\n",
      "To: ad994@Freenet.carleton.ca\n",
      "\n",
      "JW> 1) Where is there a book or code that will teach me how\n",
      "JW> to read and write pcx,dbf,and gif files?\n",
      "\n",
      "JW> 2) How do I access the extra ram on my paradise video board\n",
      "JW> so I can do paging in the higher vga modes ie: 320x200x256\n",
      "JW> 800x600x256\n",
      "\n",
      "JW> 3) anybody got a line on a good book to help answer these question?\n",
      "\n",
      "Here are some that I have that are very good:\n",
      "\n",
      "  Graphics File Formats, Kay and Levine, ISBN 0-8306-3059-7\n",
      "  Supercharged Bitmapped Graphics, Rimmer, ISBN 0-8306-3788-5\n",
      "  Programmer's Guide to the EGA and VGA Cards, Ferraro,\n",
      "     ISBN 0-201-57025-4 (has a whole chapter on Paradise SVGA)\n",
      "\n",
      "Dave\n",
      "---\n",
      " . DeLuxe./386 1.12 #8993 . \n",
      "                                                                                       \n",
      "\n",
      "- filenames\n",
      "/Users/madnanrizqu/scikit_learn_data/20news_home/20news-bydate-train/comp.graphics/38470\n",
      "- target_names\n",
      "comp.graphics\n",
      "- target\n",
      "0\n",
      "- DESCR\n",
      ".\n"
     ]
    }
   ],
   "source": [
    "from collections import Counter\n",
    "import random\n",
    "\n",
    "print(f\"Number of training samples: {len(newsgroups_train.data)}\")\n",
    "print(f\"Categories (classes): {newsgroups_train.target_names}\")\n",
    "\n",
    "category_dist = Counter([newsgroups_train.target_names[target] for target in newsgroups_train.target])\n",
    "print(\"\\nSamples per category:\")\n",
    "for category, count in category_dist.items():\n",
    "    print(f\"{category}: {count}\")\n",
    "\n",
    "print(\"\\nDataset attributes:\")\n",
    "for key in newsgroups_train.keys():\n",
    "    print(f\"- {key}\")\n",
    "    print(newsgroups_train[key][0])\n"
   ]
  },
  {
   "cell_type": "code",
   "execution_count": 6,
   "metadata": {},
   "outputs": [
    {
     "name": "stdout",
     "output_type": "stream",
     "text": [
      "\n",
      "New samples per category:\n",
      "comp.graphics: 584\n",
      "rec.autos: 584\n"
     ]
    }
   ],
   "source": [
    "target_1_indices = [i for i in range(len(newsgroups_train.target)) if newsgroups_train.target[i] == 1]\n",
    "\n",
    "indices_to_remove = random.sample(target_1_indices, 10)\n",
    "\n",
    "mask = [i not in indices_to_remove for i in range(len(newsgroups_train.data))]\n",
    "\n",
    "newsgroups_train.data = [d for d, keep in zip(newsgroups_train.data, mask) if keep]\n",
    "newsgroups_train.target = [t for t, keep in zip(newsgroups_train.target, mask) if keep]\n",
    "\n",
    "category_dist = Counter([newsgroups_train.target_names[target] for target in newsgroups_train.target])\n",
    "print(\"\\nNew samples per category:\")\n",
    "for category, count in category_dist.items():\n",
    "    print(f\"{category}: {count}\")"
   ]
  },
  {
   "cell_type": "code",
   "execution_count": 7,
   "metadata": {},
   "outputs": [
    {
     "data": {
      "text/html": [
       "<div>\n",
       "<style scoped>\n",
       "    .dataframe tbody tr th:only-of-type {\n",
       "        vertical-align: middle;\n",
       "    }\n",
       "\n",
       "    .dataframe tbody tr th {\n",
       "        vertical-align: top;\n",
       "    }\n",
       "\n",
       "    .dataframe thead th {\n",
       "        text-align: right;\n",
       "    }\n",
       "</style>\n",
       "<table border=\"1\" class=\"dataframe\">\n",
       "  <thead>\n",
       "    <tr style=\"text-align: right;\">\n",
       "      <th></th>\n",
       "      <th>data</th>\n",
       "      <th>label</th>\n",
       "      <th>label_text</th>\n",
       "    </tr>\n",
       "  </thead>\n",
       "  <tbody>\n",
       "    <tr>\n",
       "      <th>0</th>\n",
       "      <td>From: dave.mikelson@almac.co.uk (Dave Mikelson...</td>\n",
       "      <td>0</td>\n",
       "      <td>comp.graphics</td>\n",
       "    </tr>\n",
       "    <tr>\n",
       "      <th>1</th>\n",
       "      <td>From: scott@osi.com (Scott Fleming)\\nSubject: ...</td>\n",
       "      <td>0</td>\n",
       "      <td>comp.graphics</td>\n",
       "    </tr>\n",
       "    <tr>\n",
       "      <th>2</th>\n",
       "      <td>From: jdmooney@kocrsv01.delcoelect.com (John D...</td>\n",
       "      <td>1</td>\n",
       "      <td>rec.autos</td>\n",
       "    </tr>\n",
       "    <tr>\n",
       "      <th>3</th>\n",
       "      <td>From: ae015@Freenet.carleton.ca (Steve Hui)\\nS...</td>\n",
       "      <td>1</td>\n",
       "      <td>rec.autos</td>\n",
       "    </tr>\n",
       "    <tr>\n",
       "      <th>4</th>\n",
       "      <td>From: madman@austin.ibm.com (Steve Heracleous)...</td>\n",
       "      <td>1</td>\n",
       "      <td>rec.autos</td>\n",
       "    </tr>\n",
       "  </tbody>\n",
       "</table>\n",
       "</div>"
      ],
      "text/plain": [
       "                                                data  label     label_text\n",
       "0  From: dave.mikelson@almac.co.uk (Dave Mikelson...      0  comp.graphics\n",
       "1  From: scott@osi.com (Scott Fleming)\\nSubject: ...      0  comp.graphics\n",
       "2  From: jdmooney@kocrsv01.delcoelect.com (John D...      1      rec.autos\n",
       "3  From: ae015@Freenet.carleton.ca (Steve Hui)\\nS...      1      rec.autos\n",
       "4  From: madman@austin.ibm.com (Steve Heracleous)...      1      rec.autos"
      ]
     },
     "execution_count": 7,
     "metadata": {},
     "output_type": "execute_result"
    }
   ],
   "source": [
    "import pandas as pd\n",
    "\n",
    "df = pd.DataFrame({\n",
    "    'data': newsgroups_train.data,\n",
    "    'label': newsgroups_train.target,\n",
    "    'label_text': [newsgroups_train.target_names[i] for i in newsgroups_train.target],\n",
    "})\n",
    "\n",
    "df.head()"
   ]
  },
  {
   "cell_type": "code",
   "execution_count": 8,
   "metadata": {},
   "outputs": [
    {
     "name": "stdout",
     "output_type": "stream",
     "text": [
      "Dataset shape: (1168, 3)\n",
      "\n",
      "Columns and data types:\n",
      "data          object\n",
      "label          int64\n",
      "label_text    object\n",
      "dtype: object\n",
      "\n",
      "Missing values per column:\n",
      "data          0\n",
      "label         0\n",
      "label_text    0\n",
      "dtype: int64\n"
     ]
    },
    {
     "data": {
      "image/png": "[encoded data removed]",
      "text/plain": [
       "<Figure size 1000x600 with 1 Axes>"
      ]
     },
     "metadata": {},
     "output_type": "display_data"
    }
   ],
   "source": [
    "import seaborn as sns\n",
    "\n",
    "import matplotlib.pyplot as plt\n",
    "\n",
    "print(\"Dataset shape:\", df.shape)\n",
    "print(\"\\nColumns and data types:\")\n",
    "print(df.dtypes)\n",
    "\n",
    "print(\"\\nMissing values per column:\")\n",
    "print(df.isnull().sum())\n",
    "\n",
    "plt.figure(figsize=(10, 6))\n",
    "sns.countplot(data=df, x='label_text')\n",
    "plt.xticks(rotation=45)\n",
    "plt.title('Distribution of Documents Across Categories')\n",
    "plt.xlabel('Category')\n",
    "plt.ylabel('Count')\n",
    "plt.tight_layout()\n",
    "plt.show()"
   ]
  },
  {
   "cell_type": "markdown",
   "metadata": {},
   "source": [
    "## Data preprocessing\n",
    "In this step the goal is to remove unwanted characters from the dataset, the ones that might negatively impact or at least have no value in the machine learning task."
   ]
  },
  {
   "cell_type": "code",
   "execution_count": 9,
   "metadata": {},
   "outputs": [
    {
     "name": "stdout",
     "output_type": "stream",
     "text": [
      "Preprocessing Statistics:\n",
      "Total characters in dataset: 1,753,084\n",
      "Total special chars filtered: 79,434\n",
      "Percentage of special chars: 4.53%\n",
      "Average special chars per document: 68.01\n",
      "\n",
      "Examples where special characters were found:\n",
      "Total chars: 966\n",
      "Special chars removed: 34 (3.52%)\n",
      "==============Original==============\n",
      " From: dave.mikelson@almac.co.uk (Dave Mikelson) \n",
      "Subject: Re: PCX\n",
      "Distribution: world\n",
      "Organization: Almac BBS Ltd. +44 (0)324 665371\n",
      "Reply-To: dave.mikelson@almac.co.uk (Dave Mikelson) \n",
      "Lines: 22\n",
      "\n",
      "To:...\n",
      "==============Processed==============\n",
      " From dave.mikelsonalmac.co.uk Dave Mikelson \n",
      "Subject Re PCX\n",
      "Distribution world\n",
      "Organization Almac BBS Ltd. 44 0324 665371\n",
      "Reply-To dave.mikelsonalmac.co.uk Dave Mikelson \n",
      "Lines 22\n",
      "\n",
      "To ad994Freenet.car...\n",
      "Total chars: 845\n",
      "Special chars removed: 17 (2.01%)\n",
      "==============Original==============\n",
      " From: scott@osi.com (Scott Fleming)\n",
      "Subject: Sun IPX root window display - background picture\n",
      "Keywords: sun ipx background picture\n",
      "Organization: Objective Systems Integrators, Folsom Ca.\n",
      "Lines: 22\n",
      "\n",
      "\n",
      "H...\n",
      "==============Processed==============\n",
      " From scottosi.com Scott Fleming\n",
      "Subject Sun IPX root window display - background picture\n",
      "Keywords sun ipx background picture\n",
      "Organization Objective Systems Integrators, Folsom Ca.\n",
      "Lines 22\n",
      "\n",
      "\n",
      "Hello net...\n"
     ]
    }
   ],
   "source": [
    "import re\n",
    "\n",
    "def special_char_remover(text):\n",
    "    total_chars = len(text)\n",
    "    \n",
    "    text_clean = re.sub(r'[^a-zA-Z0-9\\s.,!?-]', '', text)\n",
    "    special_chars_removed = total_chars - len(text_clean)\n",
    "    \n",
    "    return text_clean, special_chars_removed, total_chars\n",
    "\n",
    "results = df['data'].apply(special_char_remover)\n",
    "\n",
    "df['no_special_char'] = results.apply(lambda x: x[0])\n",
    "df['special_char_removed'] = results.apply(lambda x: x[1])\n",
    "df['original_chars'] = results.apply(lambda x: x[2])\n",
    "\n",
    "print(\"Preprocessing Statistics:\")\n",
    "print(f\"Total characters in dataset: {df['original_chars'].sum():,}\")\n",
    "print(f\"Total special chars filtered: {df['special_char_removed'].sum():,}\")\n",
    "print(f\"Percentage of special chars: {(df['special_char_removed'].sum() / df['original_chars'].sum() * 100):.2f}%\")\n",
    "print(f\"Average special chars per document: {df['special_char_removed'].mean():.2f}\")\n",
    "\n",
    "print(\"\\nExamples where special characters were found:\")\n",
    "special_rows = df[df['special_char_removed'] > 0].head(2)\n",
    "for idx, row in special_rows.iterrows():\n",
    "    print(f\"Total chars: {row['original_chars']:,}\")\n",
    "    print(f\"Special chars removed: {row['special_char_removed']:,} ({row['special_char_removed']/row['original_chars']*100:.2f}%)\")\n",
    "    print(f\"==============Original==============\\n {row['data'][:200]}...\")\n",
    "    print(f\"==============Processed==============\\n {row['no_special_char'][:200]}...\")"
   ]
  },
  {
   "cell_type": "code",
   "execution_count": 10,
   "metadata": {},
   "outputs": [
    {
     "name": "stderr",
     "output_type": "stream",
     "text": [
      "[nltk_data] Downloading package punkt to\n",
      "[nltk_data]     /Users/madnanrizqu/nltk_data...\n",
      "[nltk_data]   Package punkt is already up-to-date!\n",
      "[nltk_data] Downloading package stopwords to\n",
      "[nltk_data]     /Users/madnanrizqu/nltk_data...\n",
      "[nltk_data]   Package stopwords is already up-to-date!\n"
     ]
    },
    {
     "name": "stdout",
     "output_type": "stream",
     "text": [
      "Stop Words Removal Statistics:\n",
      "Total words in dataset: 294,129\n",
      "Total stop words removed: 99,733\n",
      "Percentage of stop words: 33.91%\n",
      "Average stop words per document: 85.39\n",
      "\n",
      "Examples of stop words removal:\n",
      "Total words: 152\n",
      "Stop words removed: 48 (31.58%)\n",
      "==============Original==============\n",
      " From dave.mikelsonalmac.co.uk Dave Mikelson \n",
      "Subject Re PCX\n",
      "Distribution world\n",
      "Organization Almac BBS Ltd. 44 0324 665371\n",
      "Reply-To dave.mikelsonalmac.co.uk Dave Mikelson \n",
      "Lines 22\n",
      "\n",
      "To ad994Freenet.car...\n",
      "==============Processed==============\n",
      " dave.mikelsonalmac.co.uk dave mikelson subject pcx distribution world organization almac bbs ltd. 44 0324 665371 reply-to dave.mikelsonalmac.co.uk dave mikelson lines 22 ad994freenet.carleton.ca jw 1 ...\n",
      "Total words: 163\n",
      "Stop words removed: 52 (31.90%)\n",
      "==============Original==============\n",
      " From scottosi.com Scott Fleming\n",
      "Subject Sun IPX root window display - background picture\n",
      "Keywords sun ipx background picture\n",
      "Organization Objective Systems Integrators, Folsom Ca.\n",
      "Lines 22\n",
      "\n",
      "\n",
      "Hello net...\n",
      "==============Processed==============\n",
      " scottosi.com scott fleming subject sun ipx root window display - background picture keywords sun ipx background picture organization objective systems integrators , folsom ca . lines 22 hello netters ...\n"
     ]
    }
   ],
   "source": [
    "import nltk\n",
    "from nltk.corpus import stopwords\n",
    "from nltk.tokenize import word_tokenize\n",
    "\n",
    "nltk.download('punkt')\n",
    "nltk.download('stopwords')\n",
    "\n",
    "def stop_words_remover(text):\n",
    "    stop_words = set(stopwords.words('english'))\n",
    "    \n",
    "    words = word_tokenize(text.lower())\n",
    "    \n",
    "    total_words = len(words)\n",
    "    \n",
    "    filtered_words = [word for word in words if word not in stop_words]\n",
    "    stops_removed = total_words - len(filtered_words)\n",
    "    \n",
    "    processed_text = ' '.join(filtered_words)\n",
    "    \n",
    "    return processed_text, stops_removed, total_words\n",
    "\n",
    "results = df['no_special_char'].apply(stop_words_remover)\n",
    "\n",
    "df['no_special_char_stops'] = results.apply(lambda x: x[0])\n",
    "df['stops_removed'] = results.apply(lambda x: x[1])\n",
    "df['original'] = results.apply(lambda x: x[2])\n",
    "\n",
    "print(\"Stop Words Removal Statistics:\")\n",
    "print(f\"Total words in dataset: {df['original'].sum():,}\")\n",
    "print(f\"Total stop words removed: {df['stops_removed'].sum():,}\")\n",
    "print(f\"Percentage of stop words: {(df['stops_removed'].sum() / df['original'].sum() * 100):.2f}%\")\n",
    "print(f\"Average stop words per document: {df['stops_removed'].mean():.2f}\")\n",
    "\n",
    "print(\"\\nExamples of stop words removal:\")\n",
    "example_rows = df.head(2)\n",
    "for idx, row in example_rows.iterrows():\n",
    "    print(f\"Total words: {row['original']}\")\n",
    "    print(f\"Stop words removed: {row['stops_removed']} ({row['stops_removed']/row['original']*100:.2f}%)\")\n",
    "    print(f\"==============Original==============\\n {row['no_special_char'][:200]}...\")\n",
    "    print(f\"==============Processed==============\\n {row['no_special_char_stops'][:200]}...\")"
   ]
  },
  {
   "cell_type": "code",
   "execution_count": 11,
   "metadata": {},
   "outputs": [
    {
     "name": "stdout",
     "output_type": "stream",
     "text": [
      "\n",
      "Vectorization Statistics:\n",
      "Number of documents: 1168\n",
      "Vocabulary size: 20000\n",
      "Total words: 166,526\n",
      "\n",
      "Top 10 most frequent terms:\n",
      "               term  count\n",
      "6832            edu   1990\n",
      "5377            com   1292\n",
      "16940       subject   1239\n",
      "11326         lines   1236\n",
      "13194  organization   1152\n",
      "4795            car    860\n",
      "3569        article    736\n",
      "19578         would    724\n",
      "19603        writes    716\n",
      "18462    university    624\n"
     ]
    }
   ],
   "source": [
    "from sklearn.feature_extraction.text import CountVectorizer\n",
    "import pandas as pd\n",
    "import numpy as np\n",
    "\n",
    "vectorizer = CountVectorizer(\n",
    "    max_features=20000,\n",
    ")\n",
    "\n",
    "X = vectorizer.fit_transform(df['no_special_char_stops'])\n",
    "\n",
    "vocab_df = pd.DataFrame(\n",
    "    X.toarray(),\n",
    "    columns=vectorizer.get_feature_names_out()\n",
    ")\n",
    "\n",
    "print(\"\\nVectorization Statistics:\")\n",
    "print(f\"Number of documents: {X.shape[0]}\")\n",
    "print(f\"Vocabulary size: {X.shape[1]}\")\n",
    "print(f\"Total words: {X.sum():,}\")\n",
    "\n",
    "word_counts = np.asarray(X.sum(axis=0)).ravel()\n",
    "word_freq = pd.DataFrame({\n",
    "    'term': vectorizer.get_feature_names_out(),\n",
    "    'count': word_counts\n",
    "})\n",
    "print(\"\\nTop 10 most frequent terms:\")\n",
    "print(word_freq.sort_values('count', ascending=False).head(10))"
   ]
  },
  {
   "cell_type": "markdown",
   "metadata": {},
   "source": [
    "## Dataset split\n",
    "In this step we want to have a split where more data is allocated to the training set but enough data is there to evaluate the model properly in the test set."
   ]
  },
  {
   "cell_type": "code",
   "execution_count": 12,
   "metadata": {},
   "outputs": [
    {
     "name": "stdout",
     "output_type": "stream",
     "text": [
      "Length of X_train: 934\n",
      "Length of y_train: 934\n",
      "Length of X_test: 234\n",
      "Length of y_test: 234\n",
      "\n",
      "Labels in y_train:\n",
      "label\n",
      "1    474\n",
      "0    460\n",
      "Name: count, dtype: int64\n",
      "\n",
      "Labels in y_test:\n",
      "label\n",
      "0    124\n",
      "1    110\n",
      "Name: count, dtype: int64\n"
     ]
    }
   ],
   "source": [
    "from sklearn.model_selection import train_test_split\n",
    "\n",
    "# Split the data\n",
    "X = df['no_special_char_stops']\n",
    "y = df['label']\n",
    "\n",
    "X_train, X_test, y_train, y_test = train_test_split(X, y, test_size=0.2, random_state=0)\n",
    "\n",
    "print(f\"Length of X_train: {len(X_train)}\")\n",
    "print(f\"Length of y_train: {len(y_train)}\")\n",
    "print(f\"Length of X_test: {len(X_test)}\")\n",
    "print(f\"Length of y_test: {len(y_test)}\")\n",
    "\n",
    "print(\"\\nLabels in y_train:\")\n",
    "print(y_train.value_counts())\n",
    "print(\"\\nLabels in y_test:\")\n",
    "print(y_test.value_counts())"
   ]
  },
  {
   "cell_type": "markdown",
   "metadata": {},
   "source": [
    "## Vectorization\n",
    "In this step we transform the text into numerical representations that can be consumed by the computer and by extension the machine learning algorithms.\n",
    "\n",
    "## Model training\n",
    "In this step the goal is to train Logistic Regression and Naive Bayes for task classification. For the IMDB dataset we particularly do Sentiment Analysis.\n",
    "\n",
    "## Model testing\n",
    "In this step the goal is to find out the effects of vector embedding choice with model accuray on task classification.\n"
   ]
  },
  {
   "cell_type": "code",
   "execution_count": 16,
   "metadata": {},
   "outputs": [
    {
     "name": "stdout",
     "output_type": "stream",
     "text": [
      "Training word2vec for later steps...\n"
     ]
    }
   ],
   "source": [
    "from gensim.models import Word2Vec\n",
    "from nltk.tokenize import word_tokenize\n",
    "\n",
    "print(\"Training word2vec for later steps...\")\n",
    "\n",
    "tokenized_train_texts = [word_tokenize(text.lower()) for text in X_train]\n",
    "\n",
    "w2v_model = Word2Vec(\n",
    "    sentences=tokenized_train_texts,\n",
    "    vector_size=300, \n",
    "    window=5,       \n",
    "    min_count=2,     \n",
    "    sg=1,           \n",
    "    workers=4\n",
    ")"
   ]
  },
  {
   "cell_type": "code",
   "execution_count": 14,
   "metadata": {},
   "outputs": [
    {
     "name": "stdout",
     "output_type": "stream",
     "text": [
      "Fitting Logistic Regression to dataset...\n",
      "Fitting Logistic Regression with TF-IDF features...\n",
      "Generating word2vec representation of training dataset...\n",
      "Fitting Logistic Regression with Word2Vec features...\n",
      "\n",
      "Model Comparison:\n",
      "CountVectorizer + LogisticRegression accuracy: 0.9872\n",
      "TF-IDF + LogisticRegression accuracy: 0.9915\n",
      "Word2Vec + LogisticRegression accuracy: 0.9145\n"
     ]
    }
   ],
   "source": [
    "from sklearn.feature_extraction.text import CountVectorizer, TfidfVectorizer \n",
    "from sklearn.linear_model import LogisticRegression\n",
    "from sklearn.metrics import accuracy_score\n",
    "import numpy as np\n",
    "\n",
    "vectorizer = CountVectorizer(max_features=20000)\n",
    "X_train_vec = vectorizer.fit_transform(X_train)\n",
    "X_test_vec = vectorizer.transform(X_test)\n",
    "\n",
    "model = LogisticRegression(max_iter=200)\n",
    "print(\"Fitting Logistic Regression to dataset...\")\n",
    "model.fit(X_train_vec, y_train)\n",
    "\n",
    "y_pred = model.predict(X_test_vec)\n",
    "accuracy = accuracy_score(y_test, y_pred)\n",
    "\n",
    "tfidf_vectorizer = TfidfVectorizer(max_features=20000)\n",
    "X_train_tfidf = tfidf_vectorizer.fit_transform(X_train)\n",
    "X_test_tfidf = tfidf_vectorizer.transform(X_test)\n",
    "\n",
    "tfidf_model = LogisticRegression(max_iter=200)\n",
    "print(\"Fitting Logistic Regression with TF-IDF features...\")\n",
    "tfidf_model.fit(X_train_tfidf, y_train)\n",
    "\n",
    "y_pred_tfidf = tfidf_model.predict(X_test_tfidf)\n",
    "accuracy_tfidf = accuracy_score(y_test, y_pred_tfidf)\n",
    "\n",
    "def get_doc_vector(text, model):\n",
    "    tokens = word_tokenize(text.lower())\n",
    "    vectors = [model.wv[word] for word in tokens if word in model.wv]\n",
    "    if vectors:\n",
    "        return np.mean(vectors, axis=0)\n",
    "    else:\n",
    "        return np.zeros(model.vector_size)\n",
    "    \n",
    "print(\"Generating word2vec representation of training dataset...\")\n",
    "X_train_w2v = np.array([get_doc_vector(text, w2v_model) for text in X_train])\n",
    "X_test_w2v = np.array([get_doc_vector(text, w2v_model) for text in X_test])\n",
    "\n",
    "w2v_model_lr = LogisticRegression(max_iter=200)\n",
    "print(\"Fitting Logistic Regression with Word2Vec features...\")\n",
    "w2v_model_lr.fit(X_train_w2v, y_train)\n",
    "\n",
    "y_pred_w2v = w2v_model_lr.predict(X_test_w2v)\n",
    "accuracy_w2v = accuracy_score(y_test, y_pred_w2v)\n",
    "\n",
    "print(\"\\nModel Comparison:\")\n",
    "print(f\"CountVectorizer + LogisticRegression accuracy: {accuracy:.4f}\")\n",
    "print(f\"TF-IDF + LogisticRegression accuracy: {accuracy_tfidf:.4f}\")\n",
    "print(f\"Word2Vec + LogisticRegression accuracy: {accuracy_w2v:.4f}\")"
   ]
  },
  {
   "cell_type": "code",
   "execution_count": 15,
   "metadata": {},
   "outputs": [
    {
     "name": "stdout",
     "output_type": "stream",
     "text": [
      "Fitting MultinomialNB to dataset...\n",
      "Fitting MultinomialNB with TF-IDF features...\n",
      "Fitting MultinomialNB with Word2Vec features...\n",
      "\n",
      "Model Comparison:\n",
      "CountVectorizer + MultinomialNB accuracy: 0.9957\n",
      "TF-IDF + MultinomialNB accuracy: 0.9829\n",
      "Word2Vec + MultinomialNB accuracy: 0.8291\n"
     ]
    }
   ],
   "source": [
    "from sklearn.feature_extraction.text import CountVectorizer, TfidfVectorizer\n",
    "from sklearn.naive_bayes import MultinomialNB\n",
    "from sklearn.metrics import accuracy_score\n",
    "import numpy as np\n",
    "\n",
    "vectorizer = CountVectorizer(max_features=20000)\n",
    "X_train_vec = vectorizer.fit_transform(X_train)\n",
    "X_test_vec = vectorizer.transform(X_test)\n",
    "\n",
    "model = MultinomialNB()\n",
    "print(\"Fitting MultinomialNB to dataset...\")\n",
    "model.fit(X_train_vec, y_train)\n",
    "\n",
    "y_pred = model.predict(X_test_vec)\n",
    "accuracy = accuracy_score(y_test, y_pred)\n",
    "\n",
    "tfidf_vectorizer = TfidfVectorizer(max_features=20000)\n",
    "X_train_tfidf = tfidf_vectorizer.fit_transform(X_train)\n",
    "X_test_tfidf = tfidf_vectorizer.transform(X_test)\n",
    "\n",
    "tfidf_model = MultinomialNB()\n",
    "print(\"Fitting MultinomialNB with TF-IDF features...\")\n",
    "tfidf_model.fit(X_train_tfidf, y_train)\n",
    "\n",
    "y_pred_tfidf = tfidf_model.predict(X_test_tfidf)\n",
    "accuracy_tfidf = accuracy_score(y_test, y_pred_tfidf)\n",
    "\n",
    "def get_doc_vector(text, model):\n",
    "    tokens = word_tokenize(text.lower())\n",
    "    vectors = [model.wv[word] for word in tokens if word in model.wv]\n",
    "    if vectors:\n",
    "        vec = np.mean(vectors, axis=0)\n",
    "        vec = vec - vec.min() # make non-negative for MultinomialNB\n",
    "        return vec\n",
    "    else:\n",
    "        return np.zeros(model.vector_size)\n",
    "\n",
    "X_train_w2v_nb = np.array([get_doc_vector(text, w2v_model) for text in X_train])\n",
    "X_test_w2v_nb = np.array([get_doc_vector(text, w2v_model) for text in X_test])\n",
    "\n",
    "w2v_model_nb = MultinomialNB()\n",
    "print(\"Fitting MultinomialNB with Word2Vec features...\")\n",
    "w2v_model_nb.fit(X_train_w2v_nb, y_train)\n",
    "\n",
    "y_pred_w2v = w2v_model_nb.predict(X_test_w2v_nb)\n",
    "accuracy_w2v = accuracy_score(y_test, y_pred_w2v)\n",
    "\n",
    "print(\"\\nModel Comparison:\")\n",
    "print(f\"CountVectorizer + MultinomialNB accuracy: {accuracy:.4f}\")\n",
    "print(f\"TF-IDF + MultinomialNB accuracy: {accuracy_tfidf:.4f}\") \n",
    "print(f\"Word2Vec + MultinomialNB accuracy: {accuracy_w2v:.4f}\")"
   ]
  }
 ],
 "metadata": {
  "kernelspec": {
   "display_name": "cs681",
   "language": "python",
   "name": "python3"
  },
  "language_info": {
   "codemirror_mode": {
    "name": "ipython",
    "version": 3
   },
   "file_extension": ".py",
   "mimetype": "text/x-python",
   "name": "python",
   "nbconvert_exporter": "python",
   "pygments_lexer": "ipython3",
   "version": "3.11.11"
  }
 },
 "nbformat": 4,
 "nbformat_minor": 2
}
